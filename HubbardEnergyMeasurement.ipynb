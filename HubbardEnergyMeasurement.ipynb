{
 "cells": [
  {
   "cell_type": "code",
   "execution_count": 2,
   "metadata": {},
   "outputs": [
    {
     "name": "stderr",
     "output_type": "stream",
     "text": [
      "ibmqfactory.load_account:WARNING:2021-04-11 15:41:48,433: Credentials are already in use. The existing account in the session will be replaced.\n"
     ]
    }
   ],
   "source": [
    "#Jupyter notebook to check if imports work correctly\n",
    "%matplotlib inline\n",
    "import sys\n",
    "sys.path.append('./src')\n",
    "import HubbardEvolutionChain as hc\n",
    "import ClassicalHubbardEvolutionChain as chc\n",
    "from qiskit import QuantumCircuit, execute, Aer, IBMQ, BasicAer, QuantumRegister, ClassicalRegister\n",
    "from qiskit.compiler import transpile, assemble\n",
    "from qiskit.quantum_info import Operator\n",
    "from qiskit.tools.monitor import job_monitor\n",
    "from qiskit.tools.jupyter import *\n",
    "import qiskit.visualization as qvis\n",
    "import random as rand\n",
    "import scipy.linalg as la\n",
    "\n",
    "provider = IBMQ.load_account()\n",
    "\n",
    "import matplotlib.pyplot as plt\n",
    "import matplotlib.colors as mcolors\n",
    "import numpy as np\n",
    "from matplotlib import rcParams\n",
    "rcParams['text.usetex'] = True\n",
    "\n",
    "\n",
    "def get_bin(x, n=0):\n",
    "    \"\"\"\n",
    "    Get the binary representation of x.\n",
    "    Parameters: x (int), n (int, number of digits)\"\"\"\n",
    "    binry = format(x, 'b').zfill(n)\n",
    "    sup = list( reversed( binry[0:int(len(binry)/2)] ) )\n",
    "    sdn = list( reversed( binry[int(len(binry)/2):len(binry)] ) )\n",
    "    return format(x, 'b').zfill(n)"
   ]
  },
  {
   "cell_type": "code",
   "execution_count": 53,
   "metadata": {},
   "outputs": [],
   "source": [
    "#Energy Measurement Functions\n",
    "\n",
    "#Measure the total repulsion from circuit run\n",
    "def measure_repulsion(U, num_sites, results, shots):\n",
    "    repulsion = 0.\n",
    "    #Figure out how to include different hoppings later\n",
    "    for state in results:\n",
    "        for i in range( int( len(state)/2 ) ):\n",
    "            if state[i]=='1':\n",
    "                if state[i+num_sites]=='1':\n",
    "                    repulsion += U*results.get(state)/shots\n",
    "    \n",
    "    return repulsion\n",
    "                    \n",
    "        \n",
    "\n",
    "def measure_hopping(hopping, pairs, circuit, num_qubits):\n",
    "    #Add diagonalizing circuit\n",
    "    for pair in pairs:\n",
    "        circuit.cnot(pair[0],pair[1])\n",
    "        circuit.ch(pair[1],pair[0])\n",
    "        circuit.cnot(pair[0],pair[1])\n",
    "        #circuit.measure(pair[0],pair[0])\n",
    "        #circuit.measure(pair[1],pair[1])\n",
    "    circuit.measure_all()\n",
    "    #Run circuit\n",
    "    backend = Aer.get_backend('qasm_simulator')\n",
    "    shots = 8192\n",
    "    max_credits = 10 #Max number of credits to spend on execution\n",
    "    #print(\"Computing Hopping\")\n",
    "    hop_exp = execute(circuit, backend=backend, shots=shots, max_credits=max_credits)\n",
    "    job_monitor(hop_exp)\n",
    "    result = hop_exp.result()\n",
    "    counts = result.get_counts(circuit)\n",
    "    #print(counts)\n",
    "    #Compute energy\n",
    "    #print(pairs)\n",
    "    for pair in pairs:\n",
    "        hop_eng = 0.\n",
    "        #print('Pair is: ',pair)\n",
    "        for state in counts:\n",
    "            #print('State is: ',state,'   Index at pair[0]: ',num_qubits-1-pair[0],'    Val: ',state[num_qubits-pair[0]])\n",
    "            if state[num_qubits-1-pair[0]]=='1':\n",
    "                prob_01 = counts.get(state)/shots\n",
    "                #print('Check state is: ',state)\n",
    "                for comp_state in counts:\n",
    "                    #print('Comp State is: ',state,'   Index at pair[0]: ',num_qubits-1-pair[1],'    Val: ',comp_state[num_qubits-pair[0]])\n",
    "                    if comp_state[num_qubits-1-pair[1]]=='1':\n",
    "                        #print('Comp state is: ',comp_state)\n",
    "                        hop_eng += -hopping*(prob_01 - counts.get(comp_state)/shots)\n",
    "    return hop_eng\n"
   ]
  },
  {
   "cell_type": "code",
   "execution_count": 69,
   "metadata": {},
   "outputs": [
    {
     "name": "stdout",
     "output_type": "stream",
     "text": [
      "Num Steps:  20\n",
      "Total Time:  5.0\n",
      "{'000010': 8192}\n",
      "Job:  1  of  20  computing energy...\n",
      "Repulsion:  0.0\n",
      "Job Status: job has successfully run\n",
      "Even hopping:  0.0\n",
      "Job Status: job has successfully run\n",
      "Odd hopping:  0.0\n",
      "0.0\n",
      "Total Energy is:  0.0\n",
      "Job:  1  of  20  complete\n",
      "{'000001': 437, '000010': 7238, '000100': 517}\n",
      "Job:  2  of  20  computing energy...\n",
      "Repulsion:  0.0\n",
      "Job Status: job has successfully run\n",
      "Even hopping:  0.0\n",
      "Job Status: job has successfully run\n",
      "Odd hopping:  0.0\n",
      "0.0\n",
      "Total Energy is:  0.0\n",
      "Job:  2  of  20  complete\n",
      "{'000001': 1765, '000010': 4696, '000100': 1731}\n",
      "Job:  3  of  20  computing energy...\n",
      "Repulsion:  0.0\n",
      "Job Status: job has successfully run\n",
      "Even hopping:  0.0\n",
      "Job Status: job has successfully run\n",
      "Odd hopping:  0.0\n",
      "0.0\n",
      "Total Energy is:  0.0\n",
      "Job:  3  of  20  complete\n",
      "{'000001': 3036, '000010': 1996, '000100': 3160}\n",
      "Job:  4  of  20  computing energy...\n",
      "Repulsion:  0.0\n",
      "Job Status: job has successfully run\n",
      "Even hopping:  0.0\n",
      "Job Status: job has successfully run\n",
      "Odd hopping:  0.0\n",
      "0.0\n",
      "Total Energy is:  0.0\n",
      "Job:  4  of  20  complete\n",
      "{'000001': 4072, '000010': 188, '000100': 3932}\n",
      "Job:  5  of  20  computing energy...\n",
      "Repulsion:  0.0\n",
      "Job Status: job has successfully run\n",
      "Even hopping:  0.0\n",
      "Job Status: job has successfully run\n",
      "Odd hopping:  0.0\n",
      "0.0\n",
      "Total Energy is:  0.0\n",
      "Job:  5  of  20  complete\n",
      "{'000001': 3888, '000010': 336, '000100': 3968}\n",
      "Job:  6  of  20  computing energy...\n",
      "Repulsion:  0.0\n",
      "Job Status: job has successfully run\n",
      "Even hopping:  0.0\n",
      "Job Status: job has successfully run\n",
      "Odd hopping:  0.0\n",
      "0.0\n",
      "Total Energy is:  0.0\n",
      "Job:  6  of  20  complete\n",
      "{'000001': 2997, '000010': 2214, '000100': 2981}\n",
      "Job:  7  of  20  computing energy...\n",
      "Repulsion:  0.0\n",
      "Job Status: job has successfully run\n",
      "Even hopping:  0.0\n",
      "Job Status: job has successfully run\n",
      "Odd hopping:  0.0\n",
      "0.0\n",
      "Total Energy is:  0.0\n",
      "Job:  7  of  20  complete\n",
      "{'000001': 1549, '000010': 5064, '000100': 1579}\n",
      "Job:  8  of  20  computing energy...\n",
      "Repulsion:  0.0\n",
      "Job Status: job has successfully run\n",
      "Even hopping:  0.0\n",
      "Job Status: job has successfully run\n",
      "Odd hopping:  0.0\n",
      "0.0\n",
      "Total Energy is:  0.0\n",
      "Job:  8  of  20  complete\n",
      "{'000001': 394, '000010': 7407, '000100': 391}\n",
      "Job:  9  of  20  computing energy...\n",
      "Repulsion:  0.0\n",
      "Job Status: job has successfully run\n",
      "Even hopping:  0.0\n",
      "Job Status: job has successfully run\n",
      "Odd hopping:  0.0\n",
      "0.0\n",
      "Total Energy is:  0.0\n",
      "Job:  9  of  20  complete\n",
      "{'000001': 7, '000010': 8179, '000100': 6}\n",
      "Job:  10  of  20  computing energy...\n",
      "Repulsion:  0.0\n",
      "Job Status: job has successfully run\n",
      "Even hopping:  0.0\n",
      "Job Status: job has successfully run\n",
      "Odd hopping:  0.0\n",
      "0.0\n",
      "Total Energy is:  0.0\n",
      "Job:  10  of  20  complete\n",
      "{'000001': 624, '000010': 6979, '000100': 589}\n",
      "Job:  11  of  20  computing energy...\n",
      "Repulsion:  0.0\n",
      "Job Status: job has successfully run\n",
      "Even hopping:  0.0\n",
      "Job Status: job has successfully run\n",
      "Odd hopping:  0.0\n",
      "0.0\n",
      "Total Energy is:  0.0\n",
      "Job:  11  of  20  complete\n",
      "{'000001': 1888, '000010': 4430, '000100': 1874}\n",
      "Job:  12  of  20  computing energy...\n",
      "Repulsion:  0.0\n",
      "Job Status: job has successfully run\n",
      "Even hopping:  0.0\n",
      "Job Status: job has successfully run\n",
      "Odd hopping:  0.0\n",
      "0.0\n",
      "Total Energy is:  0.0\n",
      "Job:  12  of  20  complete\n",
      "{'000001': 3318, '000010': 1691, '000100': 3183}\n",
      "Job:  13  of  20  computing energy...\n",
      "Repulsion:  0.0\n",
      "Job Status: job has successfully run\n",
      "Even hopping:  0.0\n",
      "Job Status: job has successfully run\n",
      "Odd hopping:  0.0\n",
      "0.0\n",
      "Total Energy is:  0.0\n",
      "Job:  13  of  20  complete\n",
      "{'000001': 4115, '000010': 113, '000100': 3964}\n",
      "Job:  14  of  20  computing energy...\n",
      "Repulsion:  0.0\n",
      "Job Status: job has successfully run\n",
      "Even hopping:  0.0\n",
      "Job Status: job has successfully run\n",
      "Odd hopping:  0.0\n",
      "0.0\n",
      "Total Energy is:  0.0\n",
      "Job:  14  of  20  complete\n",
      "{'000001': 3885, '000010': 453, '000100': 3854}\n",
      "Job:  15  of  20  computing energy...\n",
      "Repulsion:  0.0\n",
      "Job Status: job has successfully run\n",
      "Even hopping:  0.0\n",
      "Job Status: job has successfully run\n",
      "Odd hopping:  0.0\n",
      "0.0\n",
      "Total Energy is:  0.0\n",
      "Job:  15  of  20  complete\n",
      "{'000001': 2835, '000010': 2541, '000100': 2816}\n",
      "Job:  16  of  20  computing energy...\n",
      "Repulsion:  0.0\n",
      "Job Status: job has successfully run\n",
      "Even hopping:  0.0\n",
      "Job Status: job has successfully run\n",
      "Odd hopping:  0.0\n",
      "0.0\n",
      "Total Energy is:  0.0\n",
      "Job:  16  of  20  complete\n",
      "{'000001': 1379, '000010': 5436, '000100': 1377}\n",
      "Job:  17  of  20  computing energy...\n",
      "Repulsion:  0.0\n",
      "Job Status: job has successfully run\n",
      "Even hopping:  0.0\n",
      "Job Status: job has successfully run\n",
      "Odd hopping:  0.0\n",
      "0.0\n",
      "Total Energy is:  0.0\n",
      "Job:  17  of  20  complete\n",
      "{'000001': 302, '000010': 7605, '000100': 285}\n",
      "Job:  18  of  20  computing energy...\n",
      "Repulsion:  0.0\n",
      "Job Status: job has successfully run\n",
      "Even hopping:  0.0\n",
      "Job Status: job has successfully run\n",
      "Odd hopping:  0.0\n",
      "0.0\n",
      "Total Energy is:  0.0\n",
      "Job:  18  of  20  complete\n",
      "{'000001': 30, '000010': 8133, '000100': 29}\n",
      "Job:  19  of  20  computing energy...\n",
      "Repulsion:  0.0\n",
      "Job Status: job has successfully run\n",
      "Even hopping:  0.0\n",
      "Job Status: job has successfully run\n",
      "Odd hopping:  0.0\n",
      "0.0\n",
      "Total Energy is:  0.0\n",
      "Job:  19  of  20  complete\n",
      "{'000001': 708, '000010': 6765, '000100': 719}\n",
      "Job:  20  of  20  computing energy...\n",
      "Repulsion:  0.0\n",
      "Job Status: job has successfully run\n",
      "Even hopping:  0.0\n",
      "Job Status: job has successfully run\n",
      "Odd hopping:  0.0\n",
      "0.0\n",
      "Total Energy is:  0.0\n",
      "Job:  20  of  20  complete\n"
     ]
    }
   ],
   "source": [
    "\n",
    "#nsites, excitations, total_time, dt, hop, U, trotter_steps\n",
    "dt = 0.25 #Delta t\n",
    "total_time = 5.\n",
    "#time_steps = int(T/dt)\n",
    "hop = 1.0  #Hopping parameter\n",
    "#t = [1.0, 2.]\n",
    "U = 2.  #On-Site repulsion\n",
    "#time_steps = 10\n",
    "nsites = 3\n",
    "trotter_steps = 1000\n",
    "excitations = np.array([1])\n",
    "\n",
    "\n",
    "\n",
    "numq = 2*nsites\n",
    "num_steps = int(total_time/dt)\n",
    "print('Num Steps: ',num_steps)\n",
    "print('Total Time: ', total_time)\n",
    "data = np.zeros((2**numq, num_steps))\n",
    "energies = np.zeros(num_steps)\n",
    "\n",
    "for t_step in range(0, num_steps):\n",
    "    #Create circuit with t_step number of steps\n",
    "    q = QuantumRegister(numq)\n",
    "    c = ClassicalRegister(numq)\n",
    "    qcirc = QuantumCircuit(q,c)\n",
    "\n",
    "    #=========USE THIS REGION TO SET YOUR INITIAL STATE==============\n",
    "      #Loop over each excitation \n",
    "    for flip in excitations:\n",
    "        qcirc.x(flip)\n",
    "    #===============================================================\n",
    "\n",
    "    qcirc.barrier()\n",
    "    #Append circuit with Trotter steps needed\n",
    "    hc.qc_evolve(qcirc, nsites, t_step*dt, hop, U, trotter_steps)\n",
    "    #Measure the circuit\n",
    "    for i in range(numq):\n",
    "        qcirc.measure(i, i)\n",
    "\n",
    "#Choose provider and backend\n",
    "    provider = IBMQ.get_provider()\n",
    "    #backend = Aer.get_backend('statevector_simulator')\n",
    "    backend = Aer.get_backend('qasm_simulator')\n",
    "    #backend = provider.get_backend('ibmq_qasm_simulator')\n",
    "    #backend = provider.get_backend('ibmqx4')\n",
    "    #backend = provider.get_backend('ibmqx2')\n",
    "    #backend = provider.get_backend('ibmq_16_melbourne')\n",
    "    shots = 8192\n",
    "    max_credits = 10 #Max number of credits to spend on execution\n",
    "    job_exp = execute(qcirc, backend=backend, shots=shots, max_credits=max_credits)\n",
    "    #job_monitor(job_exp)\n",
    "    result = job_exp.result()\n",
    "    counts = result.get_counts(qcirc)\n",
    "    print(result.get_counts(qcirc))\n",
    "    print(\"Job: \",t_step+1, \" of \", num_steps,\" computing energy...\")\n",
    "\n",
    "#Store results in data array and normalize them\n",
    "    for i in range(2**numq):\n",
    "        if counts.get(get_bin(i,numq)) is None:\n",
    "            dat = 0\n",
    "        else:\n",
    "            dat = counts.get(get_bin(i,numq))\n",
    "        data[i,t_step] = dat/shots\n",
    "\n",
    "#=======================================================\n",
    "    #Compute energy of system\n",
    "    #Compute repulsion energies\n",
    "    repulsion_energy = measure_repulsion(U, nsites, counts, shots)\n",
    "    print('Repulsion: ', repulsion_energy)\n",
    "    #Compute hopping energies\n",
    "    #Get list of hopping pairs\n",
    "    even_pairs = []\n",
    "    for i in range(0,nsites-1,2):\n",
    "        #up_pair = [i, i+1]\n",
    "        #dwn_pair = [i+nsites, i+nsites+1]\n",
    "        even_pairs.append([i, i+1])\n",
    "        even_pairs.append([i+nsites, i+nsites+1])\n",
    "    odd_pairs = []\n",
    "    for i in range(1,nsites-1,2):\n",
    "        odd_pairs.append([i, i+1])\n",
    "        odd_pairs.append([i+nsites, i+nsites+1])\n",
    "\n",
    "    #Start with even hoppings, initialize circuit and find hopping pairs\n",
    "    q = QuantumRegister(numq)\n",
    "    c = ClassicalRegister(numq)\n",
    "    qcirc = QuantumCircuit(q,c)\n",
    "      #Loop over each excitation \n",
    "    for flip in excitations:\n",
    "        qcirc.x(flip)\n",
    "    qcirc.barrier()\n",
    "    #Append circuit with Trotter steps needed\n",
    "    hc.qc_evolve(qcirc, nsites, t_step*dt, hop, U, trotter_steps)\n",
    "    '''for pair in odd_pairs:\n",
    "        qcirc.cnot(pair[0],pair[1])\n",
    "        qcirc.ch(pair[1],pair[0])\n",
    "        qcirc.cnot(pair[0],pair[1])\n",
    "        qcirc.measure(pair[0],pair[0])\n",
    "        qcirc.measure(pair[1],pair[1])\n",
    "    #circuit.draw()\n",
    "    print(t_step)\n",
    "    '''\n",
    "    #break\n",
    "    even_hopping = measure_hopping(hop, even_pairs, qcirc, numq)\n",
    "    print('Even hopping: ', even_hopping)\n",
    "    #===============================================================\n",
    "    #Now do the same for the odd hoppings\n",
    "    #Start with even hoppings, initialize circuit and find hopping pairs\n",
    "    q = QuantumRegister(numq)\n",
    "    c = ClassicalRegister(numq)\n",
    "    qcirc = QuantumCircuit(q,c)\n",
    "      #Loop over each excitation \n",
    "    for flip in excitations:\n",
    "        qcirc.x(flip)\n",
    "    qcirc.barrier()\n",
    "    #Append circuit with Trotter steps needed\n",
    "    hc.qc_evolve(qcirc, nsites, t_step*dt, hop, U, trotter_steps)\n",
    "    odd_hopping = measure_hopping(hop, odd_pairs, qcirc, numq)\n",
    "    print('Odd hopping: ',odd_hopping)\n",
    "    total_energy = repulsion_energy + even_hopping + odd_hopping\n",
    "    print(total_energy)\n",
    "    energies[t_step] = total_energy\n",
    "    print(\"Total Energy is: \", total_energy)\n",
    "    print(\"Job: \",t_step+1, \" of \", num_steps,\" complete\")\n",
    "    \n",
    "#qcirc.draw()"
   ]
  },
  {
   "cell_type": "code",
   "execution_count": 68,
   "metadata": {},
   "outputs": [
    {
     "name": "stdout",
     "output_type": "stream",
     "text": [
      "0.5821533203125\n"
     ]
    },
    {
     "data": {
      "image/png": "[encoded data removed]",
      "text/plain": [
       "<Figure size 432x288 with 1 Axes>"
      ]
     },
     "metadata": {
      "needs_background": "light"
     },
     "output_type": "display_data"
    }
   ],
   "source": [
    "plt.plot(energies)\n",
    "print(np.ptp(energies))\n",
    "#Trotter Steps=1000"
   ]
  },
  {
   "cell_type": "code",
   "execution_count": 64,
   "metadata": {},
   "outputs": [
    {
     "name": "stdout",
     "output_type": "stream",
     "text": [
      "0.7239990234375\n"
     ]
    },
    {
     "data": {
      "image/png": "[encoded data removed]",
      "text/plain": [
       "<Figure size 432x288 with 1 Axes>"
      ]
     },
     "metadata": {
      "needs_background": "light"
     },
     "output_type": "display_data"
    }
   ],
   "source": [
    "plt.plot(energies)\n",
    "print(np.ptp(energies))\n",
    "#Trotter Steps=100"
   ]
  },
  {
   "cell_type": "code",
   "execution_count": 62,
   "metadata": {},
   "outputs": [
    {
     "name": "stdout",
     "output_type": "stream",
     "text": [
      "0.7039794921875\n"
     ]
    },
    {
     "data": {
      "image/png": "[encoded data removed]",
      "text/plain": [
       "<Figure size 432x288 with 1 Axes>"
      ]
     },
     "metadata": {
      "needs_background": "light"
     },
     "output_type": "display_data"
    }
   ],
   "source": [
    "plt.plot(energies)\n",
    "print(np.ptp(energies))\n",
    "#Trotter Steps=50"
   ]
  },
  {
   "cell_type": "code",
   "execution_count": 66,
   "metadata": {},
   "outputs": [
    {
     "name": "stdout",
     "output_type": "stream",
     "text": [
      "1.408447265625\n"
     ]
    },
    {
     "data": {
      "image/png": "[encoded data removed]",
      "text/plain": [
       "<Figure size 432x288 with 1 Axes>"
      ]
     },
     "metadata": {
      "needs_background": "light"
     },
     "output_type": "display_data"
    }
   ],
   "source": [
    "plt.plot(energies)\n",
    "print(np.ptp(energies))\n",
    "#Trotter Steps=10"
   ]
  },
  {
   "cell_type": "code",
   "execution_count": 70,
   "metadata": {},
   "outputs": [
    {
     "name": "stdout",
     "output_type": "stream",
     "text": [
      "0.0\n"
     ]
    },
    {
     "data": {
      "image/png": "[encoded data removed]",
      "text/plain": [
       "<Figure size 432x288 with 1 Axes>"
      ]
     },
     "metadata": {
      "needs_background": "light"
     },
     "output_type": "display_data"
    }
   ],
   "source": [
    "plt.plot(energies)\n",
    "print(np.ptp(energies))\n",
    "#Trotter Steps=100"
   ]
  },
  {
   "cell_type": "code",
   "execution_count": null,
   "metadata": {},
   "outputs": [],
   "source": []
  }
 ],
 "metadata": {
  "kernelspec": {
   "display_name": "Python 3 (ipykernel)",
   "language": "python",
   "name": "python3"
  },
  "language_info": {
   "codemirror_mode": {
    "name": "ipython",
    "version": 3
   },
   "file_extension": ".py",
   "mimetype": "text/x-python",
   "name": "python",
   "nbconvert_exporter": "python",
   "pygments_lexer": "ipython3",
   "version": "3.7.11"
  }
 },
 "nbformat": 4,
 "nbformat_minor": 2
}
