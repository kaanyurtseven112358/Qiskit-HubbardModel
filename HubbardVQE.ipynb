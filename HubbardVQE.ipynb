{
 "cells": [
  {
   "cell_type": "code",
   "execution_count": 2,
   "metadata": {},
   "outputs": [
    {
     "ename": "ModuleNotFoundError",
     "evalue": "No module named 'openfermion.ops._givens_rotations'",
     "output_type": "error",
     "traceback": [
      "\u001b[0;31m---------------------------------------------------------------------------\u001b[0m",
      "\u001b[0;31mModuleNotFoundError\u001b[0m                       Traceback (most recent call last)",
      "\u001b[0;32m<ipython-input-2-d3a34863c07d>\u001b[0m in \u001b[0;36m<module>\u001b[0;34m\u001b[0m\n\u001b[1;32m      8\u001b[0m \u001b[0;32mfrom\u001b[0m \u001b[0mopenfermion\u001b[0m\u001b[0;34m.\u001b[0m\u001b[0mutils\u001b[0m \u001b[0;32mimport\u001b[0m \u001b[0mSpinPairs\u001b[0m\u001b[0;34m\u001b[0m\u001b[0;34m\u001b[0m\u001b[0m\n\u001b[1;32m      9\u001b[0m \u001b[0;32mfrom\u001b[0m \u001b[0mopenfermion\u001b[0m\u001b[0;34m.\u001b[0m\u001b[0mutils\u001b[0m \u001b[0;32mimport\u001b[0m \u001b[0mHubbardSquareLattice\u001b[0m\u001b[0;34m\u001b[0m\u001b[0;34m\u001b[0m\u001b[0m\n\u001b[0;32m---> 10\u001b[0;31m \u001b[0;32mfrom\u001b[0m \u001b[0mopenfermioncirq\u001b[0m \u001b[0;32mimport\u001b[0m \u001b[0mSwapNetworkTrotterAnsatz\u001b[0m\u001b[0;34m\u001b[0m\u001b[0;34m\u001b[0m\u001b[0m\n\u001b[0m\u001b[1;32m     11\u001b[0m \u001b[0;34m\u001b[0m\u001b[0m\n\u001b[1;32m     12\u001b[0m \u001b[0;31m#==== Create 2x2 Hubbard Square Lattice ========\u001b[0m\u001b[0;34m\u001b[0m\u001b[0;34m\u001b[0m\u001b[0;34m\u001b[0m\u001b[0m\n",
      "\u001b[0;32m~/.local/lib/python3.9/site-packages/openfermioncirq/__init__.py\u001b[0m in \u001b[0;36m<module>\u001b[0;34m\u001b[0m\n\u001b[1;32m     32\u001b[0m )\n\u001b[1;32m     33\u001b[0m \u001b[0;34m\u001b[0m\u001b[0m\n\u001b[0;32m---> 34\u001b[0;31m from openfermioncirq.primitives import (\n\u001b[0m\u001b[1;32m     35\u001b[0m     \u001b[0mffft\u001b[0m\u001b[0;34m,\u001b[0m\u001b[0;34m\u001b[0m\u001b[0;34m\u001b[0m\u001b[0m\n\u001b[1;32m     36\u001b[0m     \u001b[0mprepare_gaussian_state\u001b[0m\u001b[0;34m,\u001b[0m\u001b[0;34m\u001b[0m\u001b[0;34m\u001b[0m\u001b[0m\n",
      "\u001b[0;32m~/.local/lib/python3.9/site-packages/openfermioncirq/primitives/__init__.py\u001b[0m in \u001b[0;36m<module>\u001b[0;34m\u001b[0m\n\u001b[1;32m     13\u001b[0m \u001b[0;34m\"\"\"Building blocks of algorithms for quantum simulation.\"\"\"\u001b[0m\u001b[0;34m\u001b[0m\u001b[0;34m\u001b[0m\u001b[0m\n\u001b[1;32m     14\u001b[0m \u001b[0;34m\u001b[0m\u001b[0m\n\u001b[0;32m---> 15\u001b[0;31m \u001b[0;32mfrom\u001b[0m \u001b[0mopenfermioncirq\u001b[0m\u001b[0;34m.\u001b[0m\u001b[0mprimitives\u001b[0m\u001b[0;34m.\u001b[0m\u001b[0mbogoliubov_transform\u001b[0m \u001b[0;32mimport\u001b[0m \u001b[0mbogoliubov_transform\u001b[0m\u001b[0;34m\u001b[0m\u001b[0;34m\u001b[0m\u001b[0m\n\u001b[0m\u001b[1;32m     16\u001b[0m \u001b[0;34m\u001b[0m\u001b[0m\n\u001b[1;32m     17\u001b[0m \u001b[0;32mfrom\u001b[0m \u001b[0mopenfermioncirq\u001b[0m\u001b[0;34m.\u001b[0m\u001b[0mprimitives\u001b[0m\u001b[0;34m.\u001b[0m\u001b[0mffft\u001b[0m \u001b[0;32mimport\u001b[0m \u001b[0mffft\u001b[0m\u001b[0;34m\u001b[0m\u001b[0;34m\u001b[0m\u001b[0m\n",
      "\u001b[0;32m~/.local/lib/python3.9/site-packages/openfermioncirq/primitives/bogoliubov_transform.py\u001b[0m in \u001b[0;36m<module>\u001b[0;34m\u001b[0m\n\u001b[1;32m     20\u001b[0m \u001b[0;32mimport\u001b[0m \u001b[0mcirq\u001b[0m\u001b[0;34m\u001b[0m\u001b[0;34m\u001b[0m\u001b[0m\n\u001b[1;32m     21\u001b[0m \u001b[0;32mfrom\u001b[0m \u001b[0mopenfermion\u001b[0m \u001b[0;32mimport\u001b[0m \u001b[0mslater_determinant_preparation_circuit\u001b[0m\u001b[0;34m\u001b[0m\u001b[0;34m\u001b[0m\u001b[0m\n\u001b[0;32m---> 22\u001b[0;31m from openfermion.ops._givens_rotations import (\n\u001b[0m\u001b[1;32m     23\u001b[0m         \u001b[0mfermionic_gaussian_decomposition\u001b[0m\u001b[0;34m,\u001b[0m\u001b[0;34m\u001b[0m\u001b[0;34m\u001b[0m\u001b[0m\n\u001b[1;32m     24\u001b[0m         givens_decomposition_square)\n",
      "\u001b[0;31mModuleNotFoundError\u001b[0m: No module named 'openfermion.ops._givens_rotations'"
     ]
    }
   ],
   "source": [
    "'''\n",
    "    Code taken from Warren Alphonso's Website discussing the\n",
    "    VQE implementation of the FermiHubbard model\n",
    "    https://warrenalphonso.github.io/qc/hubbard#VQE\n",
    "'''\n",
    "\n",
    "from openfermion.hamiltonians import FermiHubbardModel\n",
    "from openfermion.utils import SpinPairs\n",
    "from openfermion.utils import HubbardSquareLattice\n",
    "from openfermioncirq import SwapNetworkTrotterAnsatz\n",
    "\n",
    "#==== Create 2x2 Hubbard Square Lattice ========\n",
    "# HubbardSquareLattice parameters\n",
    "x_n = 2\n",
    "y_n = 2\n",
    "n_dofs = 1 # 1 degree of freedom for spin \n",
    "periodic = 0 # Don't want tunneling terms to loop back around \n",
    "spinless = 0 # Has spin\n",
    "\n",
    "lattice = HubbardSquareLattice(x_n, y_n, n_dofs=n_dofs, periodic=periodic, spinless=spinless)\n",
    "\n",
    "\n",
    "#====== Create FermiHubbardModel Instance from Defined Lattice =========\n",
    "tunneling = [('neighbor', (0, 0), 1.)] \n",
    "interaction = [('onsite', (0, 0), 2., SpinPairs.DIFF)] \n",
    "potential = [(0, 1.)] # Must be U/2 for half-filling\n",
    "mag_field = 0. \n",
    "particle_hole_sym = False\n",
    "\n",
    "hubbard = FermiHubbardModel(lattice , tunneling_parameters=tunneling, interaction_parameters=interaction, \n",
    "                            potential_parameters=potential, magnetic_field=mag_field, \n",
    "                            particle_hole_symmetry=particle_hole_sym)\n",
    "\n",
    "#print(hubbard.hamiltonian())"
   ]
  },
  {
   "cell_type": "code",
   "execution_count": 23,
   "metadata": {},
   "outputs": [
    {
     "data": {
      "text/plain": [
       "Text(0.5, 0, 's')"
      ]
     },
     "execution_count": 23,
     "metadata": {},
     "output_type": "execute_result"
    },
    {
     "data": {
      "image/png": "[encoded data removed]",
      "text/plain": [
       "<Figure size 432x288 with 1 Axes>"
      ]
     },
     "metadata": {
      "needs_background": "light"
     },
     "output_type": "display_data"
    }
   ],
   "source": [
    "#Example Adiabatic Evolution for 2x2 Hamiltonian\n",
    "import numpy as np\n",
    "import scipy.linalg as sp\n",
    "import matplotlib.pyplot as plt\n",
    "\n",
    "H_A = np.array( [[1, 0], [0, -1]] )\n",
    "H_B = np.array( [[0, 1], [1, 0]] ) \n",
    "H = lambda s: (1-s)*H_A + s*H_B\n",
    "psi_A = np.array([0, 1]) # The ground state of H_A \n",
    "\n",
    "# If n=5, then we do 5 steps: H(0), H(0.25), H(0.5), H(0.75), H(1)\n",
    "n = 50\n",
    "t = 1\n",
    "res = psi_A\n",
    "s_vals = []\n",
    "up_eigs = []\n",
    "dwn_eigs = []\n",
    "for i in range(n): \n",
    "    s = i / (n-1)\n",
    "    s_vals.append(s)\n",
    "    res = np.dot(sp.expm(-1j * H(s) * t), res)\n",
    "    up_eigs.append(sp.eig(H(s))[0][0])\n",
    "    dwn_eigs.append((sp.eig(H(s))[0][1]))\n",
    "    \n",
    "\n",
    "plt.plot(s_vals, up_eigs)\n",
    "plt.plot(s_vals, dwn_eigs)\n",
    "plt.ylabel('Eigenvalues')\n",
    "plt.xlabel('s')"
   ]
  },
  {
   "cell_type": "code",
   "execution_count": 1,
   "metadata": {},
   "outputs": [
    {
     "ename": "ModuleNotFoundError",
     "evalue": "No module named 'openfermion.ops._givens_rotations'",
     "output_type": "error",
     "traceback": [
      "\u001b[0;31m---------------------------------------------------------------------------\u001b[0m",
      "\u001b[0;31mModuleNotFoundError\u001b[0m                       Traceback (most recent call last)",
      "\u001b[0;32m<ipython-input-1-7e9f83d2287b>\u001b[0m in \u001b[0;36m<module>\u001b[0;34m\u001b[0m\n\u001b[1;32m      1\u001b[0m \u001b[0;32mimport\u001b[0m \u001b[0msys\u001b[0m\u001b[0;34m\u001b[0m\u001b[0;34m\u001b[0m\u001b[0m\n\u001b[1;32m      2\u001b[0m \u001b[0msys\u001b[0m\u001b[0;34m.\u001b[0m\u001b[0mpath\u001b[0m\u001b[0;34m.\u001b[0m\u001b[0mappend\u001b[0m\u001b[0;34m(\u001b[0m\u001b[0;34m'./src'\u001b[0m\u001b[0;34m)\u001b[0m\u001b[0;34m\u001b[0m\u001b[0;34m\u001b[0m\u001b[0m\n\u001b[0;32m----> 3\u001b[0;31m \u001b[0;32mimport\u001b[0m \u001b[0mCustomSwapNetworkTrotterAnsatz\u001b[0m\u001b[0;34m\u001b[0m\u001b[0;34m\u001b[0m\u001b[0m\n\u001b[0m\u001b[1;32m      4\u001b[0m \u001b[0;31m#from openfermioncirq import SwapNetworkTrotterAnsatz\u001b[0m\u001b[0;34m\u001b[0m\u001b[0;34m\u001b[0m\u001b[0;34m\u001b[0m\u001b[0m\n\u001b[1;32m      5\u001b[0m \u001b[0;31m#from CustomSwapNetworkTrotterAnsatz import *\u001b[0m\u001b[0;34m\u001b[0m\u001b[0;34m\u001b[0m\u001b[0;34m\u001b[0m\u001b[0m\n",
      "\u001b[0;32m~/documents/research/sergio/QC-Codes/HubbardModel/Qiskit-HubbardModel/src/CustomSwapNetworkTrotterAnsatz.py\u001b[0m in \u001b[0;36m<module>\u001b[0;34m\u001b[0m\n\u001b[1;32m      1\u001b[0m \u001b[0;32mimport\u001b[0m \u001b[0mnumpy\u001b[0m \u001b[0;32mas\u001b[0m \u001b[0mnp\u001b[0m\u001b[0;34m\u001b[0m\u001b[0;34m\u001b[0m\u001b[0m\n\u001b[0;32m----> 2\u001b[0;31m \u001b[0;32mfrom\u001b[0m \u001b[0mopenfermioncirq\u001b[0m \u001b[0;32mimport\u001b[0m \u001b[0mSwapNetworkTrotterAnsatz\u001b[0m\u001b[0;34m\u001b[0m\u001b[0;34m\u001b[0m\u001b[0m\n\u001b[0m\u001b[1;32m      3\u001b[0m \u001b[0;32mfrom\u001b[0m \u001b[0mopenfermion\u001b[0m\u001b[0;34m.\u001b[0m\u001b[0mtransforms\u001b[0m \u001b[0;32mimport\u001b[0m \u001b[0mget_diagonal_coulomb_hamiltonian\u001b[0m\u001b[0;34m\u001b[0m\u001b[0;34m\u001b[0m\u001b[0m\n\u001b[1;32m      4\u001b[0m \u001b[0;32mfrom\u001b[0m \u001b[0mopenfermioncirq\u001b[0m\u001b[0;34m.\u001b[0m\u001b[0mvariational\u001b[0m\u001b[0;34m.\u001b[0m\u001b[0mletter_with_subscripts\u001b[0m \u001b[0;32mimport\u001b[0m \u001b[0mLetterWithSubscripts\u001b[0m\u001b[0;34m\u001b[0m\u001b[0;34m\u001b[0m\u001b[0m\n\u001b[1;32m      5\u001b[0m \u001b[0;32mfrom\u001b[0m \u001b[0mopenfermioncirq\u001b[0m \u001b[0;32mimport\u001b[0m \u001b[0mswap_network\u001b[0m\u001b[0;34m\u001b[0m\u001b[0;34m\u001b[0m\u001b[0m\n",
      "\u001b[0;32m~/.local/lib/python3.9/site-packages/openfermioncirq/__init__.py\u001b[0m in \u001b[0;36m<module>\u001b[0;34m\u001b[0m\n\u001b[1;32m     32\u001b[0m )\n\u001b[1;32m     33\u001b[0m \u001b[0;34m\u001b[0m\u001b[0m\n\u001b[0;32m---> 34\u001b[0;31m from openfermioncirq.primitives import (\n\u001b[0m\u001b[1;32m     35\u001b[0m     \u001b[0mffft\u001b[0m\u001b[0;34m,\u001b[0m\u001b[0;34m\u001b[0m\u001b[0;34m\u001b[0m\u001b[0m\n\u001b[1;32m     36\u001b[0m     \u001b[0mprepare_gaussian_state\u001b[0m\u001b[0;34m,\u001b[0m\u001b[0;34m\u001b[0m\u001b[0;34m\u001b[0m\u001b[0m\n",
      "\u001b[0;32m~/.local/lib/python3.9/site-packages/openfermioncirq/primitives/__init__.py\u001b[0m in \u001b[0;36m<module>\u001b[0;34m\u001b[0m\n\u001b[1;32m     13\u001b[0m \u001b[0;34m\"\"\"Building blocks of algorithms for quantum simulation.\"\"\"\u001b[0m\u001b[0;34m\u001b[0m\u001b[0;34m\u001b[0m\u001b[0m\n\u001b[1;32m     14\u001b[0m \u001b[0;34m\u001b[0m\u001b[0m\n\u001b[0;32m---> 15\u001b[0;31m \u001b[0;32mfrom\u001b[0m \u001b[0mopenfermioncirq\u001b[0m\u001b[0;34m.\u001b[0m\u001b[0mprimitives\u001b[0m\u001b[0;34m.\u001b[0m\u001b[0mbogoliubov_transform\u001b[0m \u001b[0;32mimport\u001b[0m \u001b[0mbogoliubov_transform\u001b[0m\u001b[0;34m\u001b[0m\u001b[0;34m\u001b[0m\u001b[0m\n\u001b[0m\u001b[1;32m     16\u001b[0m \u001b[0;34m\u001b[0m\u001b[0m\n\u001b[1;32m     17\u001b[0m \u001b[0;32mfrom\u001b[0m \u001b[0mopenfermioncirq\u001b[0m\u001b[0;34m.\u001b[0m\u001b[0mprimitives\u001b[0m\u001b[0;34m.\u001b[0m\u001b[0mffft\u001b[0m \u001b[0;32mimport\u001b[0m \u001b[0mffft\u001b[0m\u001b[0;34m\u001b[0m\u001b[0;34m\u001b[0m\u001b[0m\n",
      "\u001b[0;32m~/.local/lib/python3.9/site-packages/openfermioncirq/primitives/bogoliubov_transform.py\u001b[0m in \u001b[0;36m<module>\u001b[0;34m\u001b[0m\n\u001b[1;32m     20\u001b[0m \u001b[0;32mimport\u001b[0m \u001b[0mcirq\u001b[0m\u001b[0;34m\u001b[0m\u001b[0;34m\u001b[0m\u001b[0m\n\u001b[1;32m     21\u001b[0m \u001b[0;32mfrom\u001b[0m \u001b[0mopenfermion\u001b[0m \u001b[0;32mimport\u001b[0m \u001b[0mslater_determinant_preparation_circuit\u001b[0m\u001b[0;34m\u001b[0m\u001b[0;34m\u001b[0m\u001b[0m\n\u001b[0;32m---> 22\u001b[0;31m from openfermion.ops._givens_rotations import (\n\u001b[0m\u001b[1;32m     23\u001b[0m         \u001b[0mfermionic_gaussian_decomposition\u001b[0m\u001b[0;34m,\u001b[0m\u001b[0;34m\u001b[0m\u001b[0;34m\u001b[0m\u001b[0m\n\u001b[1;32m     24\u001b[0m         givens_decomposition_square)\n",
      "\u001b[0;31mModuleNotFoundError\u001b[0m: No module named 'openfermion.ops._givens_rotations'"
     ]
    }
   ],
   "source": [
    "\n",
    "import sys\n",
    "sys.path.append('./src')\n",
    "import CustomSwapNetworkTrotterAnsatz\n",
    "#from openfermioncirq import SwapNetworkTrotterAnsatz\n",
    "#from CustomSwapNetworkTrotterAnsatz import *\n",
    "steps = 2\n",
    "#ansatz = CustomSwapNetworkTrotterAnsatz(hubbard, iterations=steps)"
   ]
  },
  {
   "cell_type": "code",
   "execution_count": null,
   "metadata": {},
   "outputs": [],
   "source": []
  }
 ],
 "metadata": {
  "kernelspec": {
   "display_name": "Python 3",
   "language": "python",
   "name": "python3"
  },
  "language_info": {
   "codemirror_mode": {
    "name": "ipython",
    "version": 3
   },
   "file_extension": ".py",
   "mimetype": "text/x-python",
   "name": "python",
   "nbconvert_exporter": "python",
   "pygments_lexer": "ipython3",
   "version": "3.7.5"
  }
 },
 "nbformat": 4,
 "nbformat_minor": 2
}
